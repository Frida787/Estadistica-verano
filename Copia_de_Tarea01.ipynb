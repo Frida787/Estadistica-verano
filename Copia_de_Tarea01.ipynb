{
  "nbformat": 4,
  "nbformat_minor": 0,
  "metadata": {
    "colab": {
      "provenance": [],
      "include_colab_link": true
    },
    "kernelspec": {
      "name": "python3",
      "display_name": "Python 3"
    },
    "language_info": {
      "name": "python"
    }
  },
  "cells": [
    {
      "cell_type": "markdown",
      "metadata": {
        "id": "view-in-github",
        "colab_type": "text"
      },
      "source": [
        "<a href=\"https://colab.research.google.com/github/Frida787/Estadistica-verano/blob/main/Copia_de_Tarea01.ipynb\" target=\"_parent\"><img src=\"https://colab.research.google.com/assets/colab-badge.svg\" alt=\"Open In Colab\"/></a>"
      ]
    },
    {
      "cell_type": "markdown",
      "source": [
        "# Tipos de datos: flotantes (float)\n",
        "Declara dos variables de tipo flotante que tengan por nombre `a` y `b`. Después muéstralas usando la función `print`.\n",
        "\n",
        "\n"
      ],
      "metadata": {
        "id": "RWt28y6BDzzT"
      }
    },
    {
      "cell_type": "code",
      "execution_count": null,
      "metadata": {
        "id": "Dh2HcNCMDxmY",
        "colab": {
          "base_uri": "https://localhost:8080/"
        },
        "outputId": "77a2043e-25ad-40d6-de5b-09b03b927e5d"
      },
      "outputs": [
        {
          "output_type": "stream",
          "name": "stdout",
          "text": [
            "5.2\n",
            "3.5\n"
          ]
        }
      ],
      "source": [
        "a=5.2\n",
        "b=3.5\n",
        "print(a)\n",
        "print(b)"
      ]
    },
    {
      "cell_type": "markdown",
      "source": [
        "Declara una variable `c` cuyo valor sea $\\frac{b^2}{4a}-3$, muéstralo en pantalla usando la función `print`.\n",
        "\n"
      ],
      "metadata": {
        "id": "kOWRNQD9KZ3T"
      }
    },
    {
      "cell_type": "code",
      "source": [
        "c=b**2/(4*a)-3\n",
        "print(c)"
      ],
      "metadata": {
        "id": "4Kd2Pth5LPux",
        "colab": {
          "base_uri": "https://localhost:8080/"
        },
        "outputId": "e308fcc1-60f4-4254-86cd-3303a4e7dc7b"
      },
      "execution_count": null,
      "outputs": [
        {
          "output_type": "stream",
          "name": "stdout",
          "text": [
            "-2.4110576923076925\n"
          ]
        }
      ]
    },
    {
      "cell_type": "markdown",
      "source": [
        "Declara las variables:\n",
        "$$x_1 = \\frac{-b + \\sqrt{b^2 - 4ac}}{2a}$$ <br>\n",
        "$$x_2 = \\frac{-b - \\sqrt{b^2 - 4ac}}{2a}$$ <br>\n",
        "Muéstralas en pantalla usando la función `print`."
      ],
      "metadata": {
        "id": "YmFfmkiOLXbk"
      }
    },
    {
      "cell_type": "code",
      "source": [
        "x_1=(-b+(b**2-4*a*c)**0.5)/(2*a)\n",
        "x_2=(-b-(b**2-4*a*c)**0.5)/(2*a)\n",
        "print(x_1)\n",
        "print(x_2)"
      ],
      "metadata": {
        "id": "QSFiwnIJLfDL",
        "colab": {
          "base_uri": "https://localhost:8080/"
        },
        "outputId": "0be9de93-9520-4122-976d-4aad185731ef"
      },
      "execution_count": null,
      "outputs": [
        {
          "output_type": "stream",
          "name": "stdout",
          "text": [
            "0.42301606377428846\n",
            "-1.0960929868512117\n"
          ]
        }
      ]
    },
    {
      "cell_type": "markdown",
      "source": [
        "Usa `type` para saber qué tipo de dato es $x_1$"
      ],
      "metadata": {
        "id": "QjWmahAlMEe_"
      }
    },
    {
      "cell_type": "code",
      "source": [
        "type(x_1)"
      ],
      "metadata": {
        "id": "X671SWpZMM7o",
        "colab": {
          "base_uri": "https://localhost:8080/"
        },
        "outputId": "c447e39e-44e8-40ff-b99a-454db0e3e098"
      },
      "execution_count": null,
      "outputs": [
        {
          "output_type": "execute_result",
          "data": {
            "text/plain": [
              "float"
            ]
          },
          "metadata": {},
          "execution_count": 13
        }
      ]
    },
    {
      "cell_type": "markdown",
      "source": [
        "# Tipos de datos: boleanos (bool)\n",
        "\n",
        "Declara una variable llamada `mayor_que` cuyo valor sea `a > b`. Imprime en pantalla `a`, `b` y `mayor_que`. ¿Qué crees que signifique el valor de `mayor_que`?"
      ],
      "metadata": {
        "id": "7y-4H2ELMuLD"
      }
    },
    {
      "cell_type": "code",
      "source": [
        "mayor_que=a>b\n",
        "print(a)\n",
        "print(b)\n",
        "print(mayor_que)"
      ],
      "metadata": {
        "id": "o3CKfK3cNfXp",
        "colab": {
          "base_uri": "https://localhost:8080/"
        },
        "outputId": "5c72677b-0abb-4a19-c9e7-fe7264009a6e"
      },
      "execution_count": null,
      "outputs": [
        {
          "output_type": "stream",
          "name": "stdout",
          "text": [
            "5.2\n",
            "3.5\n",
            "True\n"
          ]
        }
      ]
    },
    {
      "cell_type": "markdown",
      "source": [
        "Declara una variable llamada `mayor_o_igual_que` cuyo valor sea `a >= b`. Imprime en pantalla `a`, `b` y `mayor_o_igual_que`. ¿Qué crees que signifique el valor de `mayor_o_igual_que`?"
      ],
      "metadata": {
        "id": "BAczf10jZ4ID"
      }
    },
    {
      "cell_type": "code",
      "source": [
        "mayor_o_igual_que=a >= b\n",
        "print(a)\n",
        "print(b)\n",
        "print(mayor_o_igual_que)"
      ],
      "metadata": {
        "id": "ZnPuv1MsZ4cb",
        "colab": {
          "base_uri": "https://localhost:8080/"
        },
        "outputId": "9c4c837c-4992-482c-db1b-971ff1442806"
      },
      "execution_count": null,
      "outputs": [
        {
          "output_type": "stream",
          "name": "stdout",
          "text": [
            "5.2\n",
            "3.5\n",
            "True\n"
          ]
        }
      ]
    },
    {
      "cell_type": "markdown",
      "source": [
        "Declara una variable con el nombre de `es_igual` cuyo valor sea `a == b`. Imprime en pantalla `a`, `b`, y `es_igual` ¿Qué crees que signifique el resultado de `es_igual`?"
      ],
      "metadata": {
        "id": "OWfchV0UNizG"
      }
    },
    {
      "cell_type": "code",
      "source": [
        "es_igual=a == b\n",
        "print(a)\n",
        "print(b)\n",
        "print(es_igual)"
      ],
      "metadata": {
        "id": "A5eewm6yOQn-",
        "colab": {
          "base_uri": "https://localhost:8080/"
        },
        "outputId": "c7326c9e-b30c-42f3-95d3-adf1624c0a5c"
      },
      "execution_count": null,
      "outputs": [
        {
          "output_type": "stream",
          "name": "stdout",
          "text": [
            "5.2\n",
            "3.5\n",
            "False\n"
          ]
        }
      ]
    },
    {
      "cell_type": "markdown",
      "source": [
        "Declara una variable con el nombre de `es_desigual` cuyo valor sea `a != b`. Imprime en pantalla `a`, `b`, y `es_desigual` ¿Qué crees que signifique el resultado de `es_desigual`?"
      ],
      "metadata": {
        "id": "BlGpY3C-aID6"
      }
    },
    {
      "cell_type": "code",
      "source": [
        "es_desigual=a!=b\n",
        "print(a)\n",
        "print(b)\n",
        "print(es_desigual)"
      ],
      "metadata": {
        "id": "1iQgMlt9aIPp",
        "colab": {
          "base_uri": "https://localhost:8080/"
        },
        "outputId": "e168d61f-f4c4-4c16-b3f9-4760f56ac730"
      },
      "execution_count": null,
      "outputs": [
        {
          "output_type": "stream",
          "name": "stdout",
          "text": [
            "5.2\n",
            "3.5\n",
            "True\n"
          ]
        }
      ]
    },
    {
      "cell_type": "markdown",
      "source": [
        "Declara una variable llamada `verdadero` cuyo valor sea `True` y otra variable llamada `falso` cuyo valor sea `False`. Imprime ambos valores en pantalla. Además, usando la función `type`, obtén el tipo de dato que es `verdader` y `falso`."
      ],
      "metadata": {
        "id": "7EnSab2UOX_v"
      }
    },
    {
      "cell_type": "code",
      "source": [
        "verdadero=True\n",
        "falso=False\n",
        "print(verdadero)\n",
        "print(falso)\n",
        "type(verdadero)\n",
        "type(falso)"
      ],
      "metadata": {
        "id": "EgRwz_eqZoc8",
        "colab": {
          "base_uri": "https://localhost:8080/"
        },
        "outputId": "357a68bc-87af-4635-a3be-4f364f7046ed"
      },
      "execution_count": null,
      "outputs": [
        {
          "output_type": "stream",
          "name": "stdout",
          "text": [
            "True\n",
            "False\n"
          ]
        },
        {
          "output_type": "execute_result",
          "data": {
            "text/plain": [
              "bool"
            ]
          },
          "metadata": {},
          "execution_count": 20
        }
      ]
    },
    {
      "cell_type": "markdown",
      "source": [
        "# Tipo de datos: cadena de caractéres (strings)\n",
        "\n",
        "Declara una variable `nombre` cuyo valor es tu nombre completo con apellidos. Ejemplo: <br><br>\n",
        "```nombre = 'Faustino Perez Díaz'```\n",
        "<br><br>\n",
        "Mediante la función `print` imprime las iniciales de tu nombre tomadas de la variable `nombre`."
      ],
      "metadata": {
        "id": "WJeaF8CVaoxb"
      }
    },
    {
      "cell_type": "code",
      "source": [
        "nombre='Frida Montserrat Ruvalcaba Avalos'\n",
        "print(nombre)\n",
        "nombre[0]\n",
        "nombre[3]\n",
        "print(nombre[0],nombre[6],nombre[17],nombre[27])"
      ],
      "metadata": {
        "id": "iJtLISzzGj_h",
        "colab": {
          "base_uri": "https://localhost:8080/"
        },
        "outputId": "b042ffa3-306e-455b-ce2b-d4f734ce5ca4"
      },
      "execution_count": null,
      "outputs": [
        {
          "output_type": "stream",
          "name": "stdout",
          "text": [
            "Frida Montserrat Ruvalcaba Avalos\n",
            "F M R A\n"
          ]
        }
      ]
    },
    {
      "cell_type": "markdown",
      "source": [
        "Mediante `print` imprime sólo tu primer apellido utilizando slicing en la variable `nombre`. Recuerda que slicing es: `lista[inicio:fin:paso]`."
      ],
      "metadata": {
        "id": "QxAiswQ7GlHe"
      }
    },
    {
      "cell_type": "code",
      "source": [
        "print(nombre[17:26])"
      ],
      "metadata": {
        "id": "gqvvAvLmHBxh",
        "colab": {
          "base_uri": "https://localhost:8080/"
        },
        "outputId": "d5832b92-fe0b-4ebc-c789-ed47908c4b65"
      },
      "execution_count": null,
      "outputs": [
        {
          "output_type": "stream",
          "name": "stdout",
          "text": [
            "Ruvalcaba\n"
          ]
        }
      ]
    },
    {
      "cell_type": "markdown",
      "source": [
        "Aplica el método `.upper()` a la variable `nombre` e imprime el resultado."
      ],
      "metadata": {
        "id": "JO-uttyYHCk4"
      }
    },
    {
      "cell_type": "code",
      "source": [
        "nombre.upper()"
      ],
      "metadata": {
        "id": "RcOhyHYUHgyZ",
        "colab": {
          "base_uri": "https://localhost:8080/",
          "height": 35
        },
        "outputId": "7049d511-e79e-4d52-c354-b82f4c915aba"
      },
      "execution_count": null,
      "outputs": [
        {
          "output_type": "execute_result",
          "data": {
            "text/plain": [
              "'FRIDA MONTSERRAT RUVALCABA AVALOS'"
            ],
            "application/vnd.google.colaboratory.intrinsic+json": {
              "type": "string"
            }
          },
          "metadata": {},
          "execution_count": 58
        }
      ]
    }
  ]
}